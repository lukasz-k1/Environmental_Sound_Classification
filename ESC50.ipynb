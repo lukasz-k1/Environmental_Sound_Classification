{
 "cells": [
  {
   "cell_type": "markdown",
   "id": "ada7cb75",
   "metadata": {},
   "source": [
    "## Projekt - klasyfikacja dźwięków środowiskowych\n",
    "Celem projektu jest stworzenie modelu klasyfikacjnego umożliwiającego rozpoznanie dźwieków takich jak: szczekanie psa, płacz dziecka, deszcz i inne.  \n",
    "Dane pochodzą ze zbioru [ESC50](https://www.kaggle.com/mmoreaux/environmental-sound-classification-50), [Link to the license](https://creativecommons.org/licenses/by-nc-sa/4.0/).\n",
    "W projekcie została wykorzystana ograniczona wersja zbioru - ESC10.  \n",
    "W zbiorze ESC10 znajduje się 10 klas: ['dog' 'chainsaw' 'crackling_fire' 'helicopter' 'rain' 'crying_baby'\n",
    " 'clock_tick' 'sneezing' 'rooster' 'sea_waves']. W każdej klasie znajduje się 40, 5-cio sekundowych nagrań .wav."
   ]
  },
  {
   "cell_type": "markdown",
   "id": "63618270",
   "metadata": {},
   "source": [
    "Spis treści:\n",
    "1. [Wstęp](#Projekt---klasyfikacja-dźwięków-środowiskowych)\n",
    "2. [Prametryzacja danych](#Parametryzacja-danych)\n",
    "3. [KNN](#KNN)\n",
    "4. [SVM](#SVM)\n",
    "5. [Random Forest](#RandomForest)\n",
    "6. [LGBM](#LGBM)\n",
    "7. [Podsumowanie](#Podsumowanie)\n",
    "8. [CNN](#CNN)"
   ]
  },
  {
   "cell_type": "code",
   "execution_count": 1,
   "id": "8e82e853",
   "metadata": {},
   "outputs": [],
   "source": [
    "import os\n",
    "import librosa\n",
    "import optuna\n",
    "import pandas as pd\n",
    "import numpy as np\n",
    "import matplotlib.pyplot as plt\n",
    "\n",
    "from sklearn.model_selection import train_test_split, cross_validate, StratifiedKFold\n",
    "from sklearn.preprocessing import StandardScaler\n",
    "from sklearn.metrics import accuracy_score, f1_score, make_scorer, plot_confusion_matrix\n",
    "\n",
    "from sklearn.neighbors import KNeighborsClassifier\n",
    "from sklearn.ensemble import RandomForestClassifier\n",
    "from sklearn.svm import SVC\n",
    "import lightgbm as lgb"
   ]
  },
  {
   "cell_type": "code",
   "execution_count": 2,
   "id": "60366cb4",
   "metadata": {},
   "outputs": [],
   "source": [
    "csv_filepath = 'esc50.csv'\n",
    "data_path = 'audio/audio/16000/'"
   ]
  },
  {
   "cell_type": "code",
   "execution_count": 3,
   "id": "9169fcc7",
   "metadata": {},
   "outputs": [
    {
     "name": "stdout",
     "output_type": "stream",
     "text": [
      "(2000, 7)\n"
     ]
    },
    {
     "data": {
      "text/html": [
       "<div>\n",
       "<style scoped>\n",
       "    .dataframe tbody tr th:only-of-type {\n",
       "        vertical-align: middle;\n",
       "    }\n",
       "\n",
       "    .dataframe tbody tr th {\n",
       "        vertical-align: top;\n",
       "    }\n",
       "\n",
       "    .dataframe thead th {\n",
       "        text-align: right;\n",
       "    }\n",
       "</style>\n",
       "<table border=\"1\" class=\"dataframe\">\n",
       "  <thead>\n",
       "    <tr style=\"text-align: right;\">\n",
       "      <th></th>\n",
       "      <th>filename</th>\n",
       "      <th>fold</th>\n",
       "      <th>target</th>\n",
       "      <th>category</th>\n",
       "      <th>esc10</th>\n",
       "      <th>src_file</th>\n",
       "      <th>take</th>\n",
       "    </tr>\n",
       "  </thead>\n",
       "  <tbody>\n",
       "    <tr>\n",
       "      <th>0</th>\n",
       "      <td>1-100032-A-0.wav</td>\n",
       "      <td>1</td>\n",
       "      <td>0</td>\n",
       "      <td>dog</td>\n",
       "      <td>True</td>\n",
       "      <td>100032</td>\n",
       "      <td>A</td>\n",
       "    </tr>\n",
       "    <tr>\n",
       "      <th>1</th>\n",
       "      <td>1-100038-A-14.wav</td>\n",
       "      <td>1</td>\n",
       "      <td>14</td>\n",
       "      <td>chirping_birds</td>\n",
       "      <td>False</td>\n",
       "      <td>100038</td>\n",
       "      <td>A</td>\n",
       "    </tr>\n",
       "    <tr>\n",
       "      <th>2</th>\n",
       "      <td>1-100210-A-36.wav</td>\n",
       "      <td>1</td>\n",
       "      <td>36</td>\n",
       "      <td>vacuum_cleaner</td>\n",
       "      <td>False</td>\n",
       "      <td>100210</td>\n",
       "      <td>A</td>\n",
       "    </tr>\n",
       "    <tr>\n",
       "      <th>3</th>\n",
       "      <td>1-100210-B-36.wav</td>\n",
       "      <td>1</td>\n",
       "      <td>36</td>\n",
       "      <td>vacuum_cleaner</td>\n",
       "      <td>False</td>\n",
       "      <td>100210</td>\n",
       "      <td>B</td>\n",
       "    </tr>\n",
       "    <tr>\n",
       "      <th>4</th>\n",
       "      <td>1-101296-A-19.wav</td>\n",
       "      <td>1</td>\n",
       "      <td>19</td>\n",
       "      <td>thunderstorm</td>\n",
       "      <td>False</td>\n",
       "      <td>101296</td>\n",
       "      <td>A</td>\n",
       "    </tr>\n",
       "  </tbody>\n",
       "</table>\n",
       "</div>"
      ],
      "text/plain": [
       "            filename  fold  target        category  esc10  src_file take\n",
       "0   1-100032-A-0.wav     1       0             dog   True    100032    A\n",
       "1  1-100038-A-14.wav     1      14  chirping_birds  False    100038    A\n",
       "2  1-100210-A-36.wav     1      36  vacuum_cleaner  False    100210    A\n",
       "3  1-100210-B-36.wav     1      36  vacuum_cleaner  False    100210    B\n",
       "4  1-101296-A-19.wav     1      19    thunderstorm  False    101296    A"
      ]
     },
     "execution_count": 3,
     "metadata": {},
     "output_type": "execute_result"
    }
   ],
   "source": [
    "df = pd.read_csv(csv_filepath)\n",
    "print(df.shape)\n",
    "df.head()"
   ]
  },
  {
   "cell_type": "code",
   "execution_count": 4,
   "id": "c142fe4b",
   "metadata": {},
   "outputs": [
    {
     "name": "stdout",
     "output_type": "stream",
     "text": [
      "Dataframe shape: (400, 3)\n",
      "Classes: ['dog' 'chainsaw' 'crackling_fire' 'helicopter' 'rain' 'crying_baby'\n",
      " 'clock_tick' 'sneezing' 'rooster' 'sea_waves']\n"
     ]
    },
    {
     "data": {
      "text/html": [
       "<div>\n",
       "<style scoped>\n",
       "    .dataframe tbody tr th:only-of-type {\n",
       "        vertical-align: middle;\n",
       "    }\n",
       "\n",
       "    .dataframe tbody tr th {\n",
       "        vertical-align: top;\n",
       "    }\n",
       "\n",
       "    .dataframe thead th {\n",
       "        text-align: right;\n",
       "    }\n",
       "</style>\n",
       "<table border=\"1\" class=\"dataframe\">\n",
       "  <thead>\n",
       "    <tr style=\"text-align: right;\">\n",
       "      <th></th>\n",
       "      <th>filename</th>\n",
       "      <th>target</th>\n",
       "      <th>category</th>\n",
       "    </tr>\n",
       "  </thead>\n",
       "  <tbody>\n",
       "    <tr>\n",
       "      <th>0</th>\n",
       "      <td>1-100032-A-0.wav</td>\n",
       "      <td>0</td>\n",
       "      <td>dog</td>\n",
       "    </tr>\n",
       "    <tr>\n",
       "      <th>14</th>\n",
       "      <td>1-110389-A-0.wav</td>\n",
       "      <td>0</td>\n",
       "      <td>dog</td>\n",
       "    </tr>\n",
       "    <tr>\n",
       "      <th>24</th>\n",
       "      <td>1-116765-A-41.wav</td>\n",
       "      <td>1</td>\n",
       "      <td>chainsaw</td>\n",
       "    </tr>\n",
       "    <tr>\n",
       "      <th>54</th>\n",
       "      <td>1-17150-A-12.wav</td>\n",
       "      <td>2</td>\n",
       "      <td>crackling_fire</td>\n",
       "    </tr>\n",
       "    <tr>\n",
       "      <th>55</th>\n",
       "      <td>1-172649-A-40.wav</td>\n",
       "      <td>3</td>\n",
       "      <td>helicopter</td>\n",
       "    </tr>\n",
       "    <tr>\n",
       "      <th>...</th>\n",
       "      <td>...</td>\n",
       "      <td>...</td>\n",
       "      <td>...</td>\n",
       "    </tr>\n",
       "    <tr>\n",
       "      <th>1876</th>\n",
       "      <td>5-233160-A-1.wav</td>\n",
       "      <td>8</td>\n",
       "      <td>rooster</td>\n",
       "    </tr>\n",
       "    <tr>\n",
       "      <th>1888</th>\n",
       "      <td>5-234879-A-1.wav</td>\n",
       "      <td>8</td>\n",
       "      <td>rooster</td>\n",
       "    </tr>\n",
       "    <tr>\n",
       "      <th>1889</th>\n",
       "      <td>5-234879-B-1.wav</td>\n",
       "      <td>8</td>\n",
       "      <td>rooster</td>\n",
       "    </tr>\n",
       "    <tr>\n",
       "      <th>1894</th>\n",
       "      <td>5-235671-A-38.wav</td>\n",
       "      <td>6</td>\n",
       "      <td>clock_tick</td>\n",
       "    </tr>\n",
       "    <tr>\n",
       "      <th>1999</th>\n",
       "      <td>5-9032-A-0.wav</td>\n",
       "      <td>0</td>\n",
       "      <td>dog</td>\n",
       "    </tr>\n",
       "  </tbody>\n",
       "</table>\n",
       "<p>400 rows × 3 columns</p>\n",
       "</div>"
      ],
      "text/plain": [
       "               filename  target        category\n",
       "0      1-100032-A-0.wav       0             dog\n",
       "14     1-110389-A-0.wav       0             dog\n",
       "24    1-116765-A-41.wav       1        chainsaw\n",
       "54     1-17150-A-12.wav       2  crackling_fire\n",
       "55    1-172649-A-40.wav       3      helicopter\n",
       "...                 ...     ...             ...\n",
       "1876   5-233160-A-1.wav       8         rooster\n",
       "1888   5-234879-A-1.wav       8         rooster\n",
       "1889   5-234879-B-1.wav       8         rooster\n",
       "1894  5-235671-A-38.wav       6      clock_tick\n",
       "1999     5-9032-A-0.wav       0             dog\n",
       "\n",
       "[400 rows x 3 columns]"
      ]
     },
     "execution_count": 4,
     "metadata": {},
     "output_type": "execute_result"
    }
   ],
   "source": [
    "df = df[df['esc10']==True]\n",
    "\n",
    "classes = df['category'].unique()\n",
    "classes_dict = {v:k for k,v in enumerate(classes)}\n",
    "df['target'] = df['category'].map(classes_dict)\n",
    "\n",
    "df = df.drop(['fold','esc10','src_file','take'], axis=1)\n",
    "\n",
    "print(\"Dataframe shape: {}\".format(df.shape))\n",
    "print(\"Classes: {}\".format(classes))\n",
    "df"
   ]
  },
  {
   "cell_type": "markdown",
   "id": "1cf29548",
   "metadata": {},
   "source": [
    "## Parametryzacja danych\n",
    "Dane zostały sparamteryzowane przy użyciu MFCC oraz delt i 2-gich delt."
   ]
  },
  {
   "cell_type": "code",
   "execution_count": 5,
   "id": "c8e7d64d",
   "metadata": {},
   "outputs": [],
   "source": [
    "mfcc_params = {'n_mfcc': 13, 'n_fft': 512, 'win_length': 320, 'hop_length': 160}"
   ]
  },
  {
   "cell_type": "code",
   "execution_count": 27,
   "id": "ceb9a398",
   "metadata": {},
   "outputs": [],
   "source": [
    "mfccs, y = [], []\n",
    "for row in df.iterrows(): # (index, (filename, target, category))\n",
    "    x, fs = librosa.load(os.path.join(data_path, row[1][0]), sr=None)\n",
    "    mfcc = librosa.feature.mfcc(y=x, sr=fs, **mfcc_params)[1:]\n",
    "    mfcc_delta = librosa.feature.delta(mfcc)\n",
    "    mfcc_delta2 = librosa.feature.delta(mfcc, order=2)\n",
    "    mfccs.append(np.concatenate((mfcc, mfcc_delta, mfcc_delta2), axis=0))\n",
    "    y.append(row[1][1])"
   ]
  },
  {
   "cell_type": "code",
   "execution_count": 28,
   "id": "370108d1",
   "metadata": {},
   "outputs": [
    {
     "name": "stdout",
     "output_type": "stream",
     "text": [
      "(400, 36, 501)\n"
     ]
    }
   ],
   "source": [
    "X = np.stack([mfcc for mfcc in mfccs], axis=0)\n",
    "print(X.shape)"
   ]
  },
  {
   "cell_type": "code",
   "execution_count": 29,
   "id": "e9ed7d6b",
   "metadata": {},
   "outputs": [],
   "source": [
    "X_train, X_test, y_train, y_test = train_test_split(X, y, test_size=0.2, stratify=y, random_state=42)\n",
    "X_train = np.reshape(X_train, (X_train.shape[0], X_train.shape[1]*X_train.shape[2]))\n",
    "X_test = np.reshape(X_test, (X_test.shape[0], X_test.shape[1]*X_test.shape[2]))"
   ]
  },
  {
   "cell_type": "code",
   "execution_count": 30,
   "id": "b84dda2c",
   "metadata": {},
   "outputs": [],
   "source": [
    "scaler = StandardScaler()\n",
    "X_train_scaled = scaler.fit_transform(X_train)\n",
    "X_test_scaled = scaler.transform(X_test)"
   ]
  },
  {
   "cell_type": "markdown",
   "id": "75c4083d",
   "metadata": {},
   "source": [
    "## Modele kalsyfikacyjne"
   ]
  },
  {
   "cell_type": "markdown",
   "id": "9c33b2b8",
   "metadata": {},
   "source": [
    "Modele będą oceniane na podstawie 2 metryk: accuracy - ponieważ wskazuje dokładny stosunek obektów poprawnie zaklasyfikowanych do niepoprawnie zaklasyfikowanych, oraz F1-score ponieważ wskazuje trochę szerszy obraz sytuacji z uśrednianiem macro, ponieważ w każdej klasie znajduje się tyle samo obiektów. "
   ]
  },
  {
   "cell_type": "code",
   "execution_count": 10,
   "id": "6ae8f5db",
   "metadata": {},
   "outputs": [],
   "source": [
    "def calculate_metrics(y_test, y_pred):\n",
    "    print(\"Classification accuracy: {:.2f}\".format(accuracy_score(y_test, y_pred)))\n",
    "    print(\"Classification F1-score: {:.2f}\".format(f1_score(y_test, y_pred, average='macro')))"
   ]
  },
  {
   "cell_type": "markdown",
   "id": "7851e8c3",
   "metadata": {},
   "source": [
    "#### KNN"
   ]
  },
  {
   "cell_type": "code",
   "execution_count": 11,
   "id": "ceab0d0a",
   "metadata": {
    "scrolled": true
   },
   "outputs": [
    {
     "name": "stdout",
     "output_type": "stream",
     "text": [
      "Classification accuracy: 0.53\n",
      "Classification F1-score: 0.47\n"
     ]
    },
    {
     "data": {
      "image/png": "[encoded data removed]",
      "text/plain": [
       "<Figure size 432x288 with 2 Axes>"
      ]
     },
     "metadata": {
      "needs_background": "light"
     },
     "output_type": "display_data"
    }
   ],
   "source": [
    "neigh = KNeighborsClassifier(n_neighbors=5)\n",
    "neigh.fit(X_train, y_train)\n",
    "y_pred = neigh.predict(X_test)\n",
    "plot_confusion_matrix(neigh, X_test, y_test, cmap='Blues')\n",
    "calculate_metrics(y_test, y_pred)"
   ]
  },
  {
   "cell_type": "markdown",
   "id": "510068dd",
   "metadata": {},
   "source": [
    "Biorąc pod uwagę złożoność problemu (10 klas) model KNN zwrócił nie nargorsze wyniki. Jednak jak można zauważyć na powyższym wykresie model nie radzi sobię z klasyfikacją do klas 0, 5 i 6 ('dog', 'crying_baby', 'clock_tick'). W tym celu zostaną przetestowane inne modele."
   ]
  },
  {
   "cell_type": "markdown",
   "id": "d52a19b5",
   "metadata": {},
   "source": [
    "#### SVM"
   ]
  },
  {
   "cell_type": "code",
   "execution_count": 12,
   "id": "378208fb",
   "metadata": {},
   "outputs": [],
   "source": [
    "scoring = {'f1_macro': make_scorer(f1_score, average='macro')}\n",
    "\n",
    "def objective(trial, model, get_space, X, y):\n",
    "    model_space = get_space(trial)\n",
    "\n",
    "    mdl = model(**model_space)\n",
    "    scores = cross_validate(mdl, X, y, scoring=scoring, cv=StratifiedKFold(n_splits=5), return_train_score=True)\n",
    "\n",
    "    return np.mean(scores['test_f1_macro'])\n",
    "\n",
    "def get_space(trial): \n",
    "    space = {\"C\": trial.suggest_uniform(\"C\", 0, 1)}\n",
    "    return space"
   ]
  },
  {
   "cell_type": "code",
   "execution_count": 13,
   "id": "15be24a7",
   "metadata": {},
   "outputs": [
    {
     "name": "stderr",
     "output_type": "stream",
     "text": [
      "\u001b[32m[I 2021-12-25 11:20:40,508]\u001b[0m A new study created in memory with name: no-name-0e0afc5d-20c6-49f8-be3a-6913ebb47ede\u001b[0m\n",
      "\u001b[32m[I 2021-12-25 11:20:58,258]\u001b[0m Trial 0 finished with value: 0.43089693502232207 and parameters: {'C': 0.7309444716034309}. Best is trial 0 with value: 0.43089693502232207.\u001b[0m\n",
      "\u001b[32m[I 2021-12-25 11:21:15,577]\u001b[0m Trial 1 finished with value: 0.3209644224323858 and parameters: {'C': 0.4176705887408314}. Best is trial 0 with value: 0.43089693502232207.\u001b[0m\n",
      "\u001b[32m[I 2021-12-25 11:21:32,595]\u001b[0m Trial 2 finished with value: 0.36733473124393834 and parameters: {'C': 0.5236325770540685}. Best is trial 0 with value: 0.43089693502232207.\u001b[0m\n",
      "\u001b[32m[I 2021-12-25 11:21:50,053]\u001b[0m Trial 3 finished with value: 0.3165879124689194 and parameters: {'C': 0.39060081274664715}. Best is trial 0 with value: 0.43089693502232207.\u001b[0m\n",
      "\u001b[32m[I 2021-12-25 11:22:06,923]\u001b[0m Trial 4 finished with value: 0.2622753009661746 and parameters: {'C': 0.10630126181368937}. Best is trial 0 with value: 0.43089693502232207.\u001b[0m\n",
      "\u001b[32m[I 2021-12-25 11:22:23,388]\u001b[0m Trial 5 finished with value: 0.4333899322212016 and parameters: {'C': 0.7427334876579561}. Best is trial 5 with value: 0.4333899322212016.\u001b[0m\n",
      "\u001b[32m[I 2021-12-25 11:22:38,678]\u001b[0m Trial 6 finished with value: 0.46327601447624334 and parameters: {'C': 0.8398159392449608}. Best is trial 6 with value: 0.46327601447624334.\u001b[0m\n",
      "\u001b[32m[I 2021-12-25 11:22:53,810]\u001b[0m Trial 7 finished with value: 0.4475727571212832 and parameters: {'C': 0.7921474728539875}. Best is trial 6 with value: 0.46327601447624334.\u001b[0m\n",
      "\u001b[32m[I 2021-12-25 11:23:09,129]\u001b[0m Trial 8 finished with value: 0.4707546160409938 and parameters: {'C': 0.9584304481713025}. Best is trial 8 with value: 0.4707546160409938.\u001b[0m\n",
      "\u001b[32m[I 2021-12-25 11:23:24,320]\u001b[0m Trial 9 finished with value: 0.41638433771251104 and parameters: {'C': 0.6726894162850413}. Best is trial 8 with value: 0.4707546160409938.\u001b[0m\n",
      "\u001b[32m[I 2021-12-25 11:23:39,684]\u001b[0m Trial 10 finished with value: 0.4724526892096552 and parameters: {'C': 0.9798352661455446}. Best is trial 10 with value: 0.4724526892096552.\u001b[0m\n",
      "\u001b[32m[I 2021-12-25 11:23:55,173]\u001b[0m Trial 11 finished with value: 0.4795456622840524 and parameters: {'C': 0.9902730106385342}. Best is trial 11 with value: 0.4795456622840524.\u001b[0m\n",
      "\u001b[32m[I 2021-12-25 11:24:10,539]\u001b[0m Trial 12 finished with value: 0.4724526892096552 and parameters: {'C': 0.9785447992769085}. Best is trial 11 with value: 0.4795456622840524.\u001b[0m\n",
      "\u001b[32m[I 2021-12-25 11:24:25,869]\u001b[0m Trial 13 finished with value: 0.471040330326708 and parameters: {'C': 0.9653738215636813}. Best is trial 11 with value: 0.4795456622840524.\u001b[0m\n",
      "\u001b[32m[I 2021-12-25 11:24:41,070]\u001b[0m Trial 14 finished with value: 0.2622753009661746 and parameters: {'C': 0.0503230388376521}. Best is trial 11 with value: 0.4795456622840524.\u001b[0m\n"
     ]
    }
   ],
   "source": [
    "model = SVC\n",
    "trials = 15\n",
    "study = optuna.create_study(direction='maximize')\n",
    "study.optimize(lambda x: objective(x, model, get_space, X_train_scaled, y_train), n_trials=trials)"
   ]
  },
  {
   "cell_type": "code",
   "execution_count": 14,
   "id": "2d380a4a",
   "metadata": {
    "scrolled": true
   },
   "outputs": [
    {
     "name": "stdout",
     "output_type": "stream",
     "text": [
      "Classification accuracy: 0.64\n",
      "Classification F1-score: 0.63\n"
     ]
    },
    {
     "data": {
      "image/png": "[encoded data removed]",
      "text/plain": [
       "<Figure size 432x288 with 2 Axes>"
      ]
     },
     "metadata": {
      "needs_background": "light"
     },
     "output_type": "display_data"
    }
   ],
   "source": [
    "SVM = SVC(**study.best_params)\n",
    "SVM.fit(X_train_scaled, y_train)\n",
    "y_pred = SVM.predict(X_test_scaled)\n",
    "plot_confusion_matrix(SVM, X_test_scaled, y_test, cmap='Blues')\n",
    "calculate_metrics(y_test, y_pred)"
   ]
  },
  {
   "cell_type": "markdown",
   "id": "3c153404",
   "metadata": {},
   "source": [
    "Model SVM znacznie lepiej poradził sobię z problemem (F1-score większe o 0.16). Zniknął problem z klasą 5, jednak model wciąż nie najlepiej radzi sobię z klasą 0 i 6."
   ]
  },
  {
   "cell_type": "markdown",
   "id": "fc1dfa4e",
   "metadata": {},
   "source": [
    "#### RandomForest"
   ]
  },
  {
   "cell_type": "code",
   "execution_count": 15,
   "id": "0affcd7c",
   "metadata": {},
   "outputs": [],
   "source": [
    "scoring = {'f1_macro': make_scorer(f1_score, average='macro')}\n",
    "\n",
    "def objective(trial, model, X, y):\n",
    "    model_space = get_space(trial)\n",
    "\n",
    "    mdl = model(**model_space)\n",
    "    scores = cross_validate(mdl, X, y, scoring=scoring, cv=StratifiedKFold(n_splits=5), return_train_score=True)\n",
    "\n",
    "    return np.mean(scores['test_f1_macro'])\n",
    "\n",
    "def get_space(trial): \n",
    "    space = {\"n_estimators\": trial.suggest_int(\"n_estimators\", 2, 200),\n",
    "             \"max_depth\": trial.suggest_int(\"max_depth\", 2, 200),\n",
    "             \"min_samples_split\": trial.suggest_int(\"min_samples_split\", 5, 15),\n",
    "             \"n_jobs\": trial.suggest_int(\"n_jobs\", -1, -1)}\n",
    "    return space"
   ]
  },
  {
   "cell_type": "code",
   "execution_count": 16,
   "id": "2a045b1b",
   "metadata": {},
   "outputs": [
    {
     "name": "stderr",
     "output_type": "stream",
     "text": [
      "\u001b[32m[I 2021-12-25 11:24:44,386]\u001b[0m A new study created in memory with name: no-name-dea93498-6ab5-414c-9c85-459a134087b7\u001b[0m\n",
      "\u001b[32m[I 2021-12-25 11:24:49,697]\u001b[0m Trial 0 finished with value: 0.4767212082722919 and parameters: {'n_estimators': 31, 'max_depth': 22, 'min_samples_split': 10, 'n_jobs': -1}. Best is trial 0 with value: 0.4767212082722919.\u001b[0m\n",
      "\u001b[32m[I 2021-12-25 11:24:53,136]\u001b[0m Trial 1 finished with value: 0.49710762818193166 and parameters: {'n_estimators': 65, 'max_depth': 123, 'min_samples_split': 12, 'n_jobs': -1}. Best is trial 1 with value: 0.49710762818193166.\u001b[0m\n",
      "\u001b[32m[I 2021-12-25 11:24:56,143]\u001b[0m Trial 2 finished with value: 0.4786157067906294 and parameters: {'n_estimators': 40, 'max_depth': 155, 'min_samples_split': 7, 'n_jobs': -1}. Best is trial 1 with value: 0.49710762818193166.\u001b[0m\n",
      "\u001b[32m[I 2021-12-25 11:25:02,147]\u001b[0m Trial 3 finished with value: 0.5354176934176934 and parameters: {'n_estimators': 197, 'max_depth': 109, 'min_samples_split': 13, 'n_jobs': -1}. Best is trial 3 with value: 0.5354176934176934.\u001b[0m\n",
      "\u001b[32m[I 2021-12-25 11:25:06,579]\u001b[0m Trial 4 finished with value: 0.49757659987071745 and parameters: {'n_estimators': 93, 'max_depth': 15, 'min_samples_split': 15, 'n_jobs': -1}. Best is trial 3 with value: 0.5354176934176934.\u001b[0m\n",
      "\u001b[32m[I 2021-12-25 11:25:09,170]\u001b[0m Trial 5 finished with value: 0.4486199914636447 and parameters: {'n_estimators': 22, 'max_depth': 93, 'min_samples_split': 14, 'n_jobs': -1}. Best is trial 3 with value: 0.5354176934176934.\u001b[0m\n",
      "\u001b[32m[I 2021-12-25 11:25:12,722]\u001b[0m Trial 6 finished with value: 0.4832887387809988 and parameters: {'n_estimators': 61, 'max_depth': 21, 'min_samples_split': 12, 'n_jobs': -1}. Best is trial 3 with value: 0.5354176934176934.\u001b[0m\n",
      "\u001b[32m[I 2021-12-25 11:25:16,472]\u001b[0m Trial 7 finished with value: 0.5011057178116001 and parameters: {'n_estimators': 64, 'max_depth': 147, 'min_samples_split': 10, 'n_jobs': -1}. Best is trial 3 with value: 0.5354176934176934.\u001b[0m\n",
      "\u001b[32m[I 2021-12-25 11:25:18,973]\u001b[0m Trial 8 finished with value: 0.4596384894774988 and parameters: {'n_estimators': 19, 'max_depth': 139, 'min_samples_split': 14, 'n_jobs': -1}. Best is trial 3 with value: 0.5354176934176934.\u001b[0m\n",
      "\u001b[32m[I 2021-12-25 11:25:22,265]\u001b[0m Trial 9 finished with value: 0.5174137104725339 and parameters: {'n_estimators': 44, 'max_depth': 145, 'min_samples_split': 6, 'n_jobs': -1}. Best is trial 3 with value: 0.5354176934176934.\u001b[0m\n",
      "\u001b[32m[I 2021-12-25 11:25:29,116]\u001b[0m Trial 10 finished with value: 0.5251371079900492 and parameters: {'n_estimators': 191, 'max_depth': 70, 'min_samples_split': 12, 'n_jobs': -1}. Best is trial 3 with value: 0.5354176934176934.\u001b[0m\n",
      "\u001b[32m[I 2021-12-25 11:25:36,026]\u001b[0m Trial 11 finished with value: 0.5477764588352823 and parameters: {'n_estimators': 199, 'max_depth': 73, 'min_samples_split': 12, 'n_jobs': -1}. Best is trial 11 with value: 0.5477764588352823.\u001b[0m\n",
      "\u001b[32m[I 2021-12-25 11:25:42,598]\u001b[0m Trial 12 finished with value: 0.5235717093364152 and parameters: {'n_estimators': 191, 'max_depth': 62, 'min_samples_split': 13, 'n_jobs': -1}. Best is trial 11 with value: 0.5477764588352823.\u001b[0m\n",
      "\u001b[32m[I 2021-12-25 11:25:48,341]\u001b[0m Trial 13 finished with value: 0.5260751405457287 and parameters: {'n_estimators': 152, 'max_depth': 190, 'min_samples_split': 8, 'n_jobs': -1}. Best is trial 11 with value: 0.5477764588352823.\u001b[0m\n",
      "\u001b[32m[I 2021-12-25 11:25:54,296]\u001b[0m Trial 14 finished with value: 0.5156220250337896 and parameters: {'n_estimators': 156, 'max_depth': 60, 'min_samples_split': 11, 'n_jobs': -1}. Best is trial 11 with value: 0.5477764588352823.\u001b[0m\n",
      "\u001b[32m[I 2021-12-25 11:25:59,969]\u001b[0m Trial 15 finished with value: 0.5336124580613746 and parameters: {'n_estimators': 155, 'max_depth': 96, 'min_samples_split': 15, 'n_jobs': -1}. Best is trial 11 with value: 0.5477764588352823.\u001b[0m\n",
      "\u001b[32m[I 2021-12-25 11:26:06,218]\u001b[0m Trial 16 finished with value: 0.5451597142107978 and parameters: {'n_estimators': 176, 'max_depth': 115, 'min_samples_split': 9, 'n_jobs': -1}. Best is trial 11 with value: 0.5477764588352823.\u001b[0m\n",
      "\u001b[32m[I 2021-12-25 11:26:11,177]\u001b[0m Trial 17 finished with value: 0.521661812044165 and parameters: {'n_estimators': 123, 'max_depth': 184, 'min_samples_split': 8, 'n_jobs': -1}. Best is trial 11 with value: 0.5477764588352823.\u001b[0m\n",
      "\u001b[32m[I 2021-12-25 11:26:17,140]\u001b[0m Trial 18 finished with value: 0.5097552251669899 and parameters: {'n_estimators': 176, 'max_depth': 41, 'min_samples_split': 9, 'n_jobs': -1}. Best is trial 11 with value: 0.5477764588352823.\u001b[0m\n",
      "\u001b[32m[I 2021-12-25 11:26:22,378]\u001b[0m Trial 19 finished with value: 0.49395685686862156 and parameters: {'n_estimators': 127, 'max_depth': 118, 'min_samples_split': 5, 'n_jobs': -1}. Best is trial 11 with value: 0.5477764588352823.\u001b[0m\n",
      "\u001b[32m[I 2021-12-25 11:26:28,959]\u001b[0m Trial 20 finished with value: 0.5246607967196203 and parameters: {'n_estimators': 174, 'max_depth': 89, 'min_samples_split': 9, 'n_jobs': -1}. Best is trial 11 with value: 0.5477764588352823.\u001b[0m\n",
      "\u001b[32m[I 2021-12-25 11:26:35,162]\u001b[0m Trial 21 finished with value: 0.5563599061756956 and parameters: {'n_estimators': 200, 'max_depth': 111, 'min_samples_split': 11, 'n_jobs': -1}. Best is trial 21 with value: 0.5563599061756956.\u001b[0m\n",
      "\u001b[32m[I 2021-12-25 11:26:41,062]\u001b[0m Trial 22 finished with value: 0.538591552238611 and parameters: {'n_estimators': 172, 'max_depth': 81, 'min_samples_split': 11, 'n_jobs': -1}. Best is trial 21 with value: 0.5563599061756956.\u001b[0m\n",
      "\u001b[32m[I 2021-12-25 11:26:47,009]\u001b[0m Trial 23 finished with value: 0.5044615482556658 and parameters: {'n_estimators': 195, 'max_depth': 128, 'min_samples_split': 11, 'n_jobs': -1}. Best is trial 21 with value: 0.5563599061756956.\u001b[0m\n",
      "\u001b[32m[I 2021-12-25 11:26:53,413]\u001b[0m Trial 24 finished with value: 0.5307256893433364 and parameters: {'n_estimators': 200, 'max_depth': 163, 'min_samples_split': 9, 'n_jobs': -1}. Best is trial 21 with value: 0.5563599061756956.\u001b[0m\n",
      "\u001b[32m[I 2021-12-25 11:26:58,570]\u001b[0m Trial 25 finished with value: 0.5053367193521991 and parameters: {'n_estimators': 133, 'max_depth': 41, 'min_samples_split': 10, 'n_jobs': -1}. Best is trial 21 with value: 0.5563599061756956.\u001b[0m\n",
      "\u001b[32m[I 2021-12-25 11:27:04,791]\u001b[0m Trial 26 finished with value: 0.5311423902894491 and parameters: {'n_estimators': 180, 'max_depth': 104, 'min_samples_split': 11, 'n_jobs': -1}. Best is trial 21 with value: 0.5563599061756956.\u001b[0m\n",
      "\u001b[32m[I 2021-12-25 11:27:10,085]\u001b[0m Trial 27 finished with value: 0.5252687704452409 and parameters: {'n_estimators': 164, 'max_depth': 78, 'min_samples_split': 8, 'n_jobs': -1}. Best is trial 21 with value: 0.5563599061756956.\u001b[0m\n",
      "\u001b[32m[I 2021-12-25 11:27:15,054]\u001b[0m Trial 28 finished with value: 0.5268516375265601 and parameters: {'n_estimators': 145, 'max_depth': 172, 'min_samples_split': 13, 'n_jobs': -1}. Best is trial 21 with value: 0.5563599061756956.\u001b[0m\n",
      "\u001b[32m[I 2021-12-25 11:27:17,094]\u001b[0m Trial 29 finished with value: 0.3066856301593143 and parameters: {'n_estimators': 3, 'max_depth': 48, 'min_samples_split': 10, 'n_jobs': -1}. Best is trial 21 with value: 0.5563599061756956.\u001b[0m\n",
      "\u001b[32m[I 2021-12-25 11:27:21,369]\u001b[0m Trial 30 finished with value: 0.4944201369665766 and parameters: {'n_estimators': 108, 'max_depth': 110, 'min_samples_split': 12, 'n_jobs': -1}. Best is trial 21 with value: 0.5563599061756956.\u001b[0m\n",
      "\u001b[32m[I 2021-12-25 11:27:27,162]\u001b[0m Trial 31 finished with value: 0.5045345177698118 and parameters: {'n_estimators': 179, 'max_depth': 77, 'min_samples_split': 11, 'n_jobs': -1}. Best is trial 21 with value: 0.5563599061756956.\u001b[0m\n",
      "\u001b[32m[I 2021-12-25 11:27:32,895]\u001b[0m Trial 32 finished with value: 0.5035744876038994 and parameters: {'n_estimators': 166, 'max_depth': 85, 'min_samples_split': 11, 'n_jobs': -1}. Best is trial 21 with value: 0.5563599061756956.\u001b[0m\n",
      "\u001b[32m[I 2021-12-25 11:27:38,930]\u001b[0m Trial 33 finished with value: 0.5422538278714749 and parameters: {'n_estimators': 200, 'max_depth': 129, 'min_samples_split': 12, 'n_jobs': -1}. Best is trial 21 with value: 0.5563599061756956.\u001b[0m\n",
      "\u001b[32m[I 2021-12-25 11:27:44,709]\u001b[0m Trial 34 finished with value: 0.5189785443314854 and parameters: {'n_estimators': 185, 'max_depth': 133, 'min_samples_split': 12, 'n_jobs': -1}. Best is trial 21 with value: 0.5563599061756956.\u001b[0m\n"
     ]
    },
    {
     "name": "stderr",
     "output_type": "stream",
     "text": [
      "\u001b[32m[I 2021-12-25 11:27:50,562]\u001b[0m Trial 35 finished with value: 0.5126840708311297 and parameters: {'n_estimators': 198, 'max_depth': 112, 'min_samples_split': 13, 'n_jobs': -1}. Best is trial 21 with value: 0.5563599061756956.\u001b[0m\n",
      "\u001b[32m[I 2021-12-25 11:27:54,679]\u001b[0m Trial 36 finished with value: 0.49322130157424277 and parameters: {'n_estimators': 89, 'max_depth': 121, 'min_samples_split': 9, 'n_jobs': -1}. Best is trial 21 with value: 0.5563599061756956.\u001b[0m\n",
      "\u001b[32m[I 2021-12-25 11:28:01,066]\u001b[0m Trial 37 finished with value: 0.4981442119971531 and parameters: {'n_estimators': 187, 'max_depth': 102, 'min_samples_split': 14, 'n_jobs': -1}. Best is trial 21 with value: 0.5563599061756956.\u001b[0m\n",
      "\u001b[32m[I 2021-12-25 11:28:07,683]\u001b[0m Trial 38 finished with value: 0.5210082629788512 and parameters: {'n_estimators': 199, 'max_depth': 158, 'min_samples_split': 10, 'n_jobs': -1}. Best is trial 21 with value: 0.5563599061756956.\u001b[0m\n",
      "\u001b[32m[I 2021-12-25 11:28:12,174]\u001b[0m Trial 39 finished with value: 0.5288622227445757 and parameters: {'n_estimators': 142, 'max_depth': 128, 'min_samples_split': 13, 'n_jobs': -1}. Best is trial 21 with value: 0.5563599061756956.\u001b[0m\n",
      "\u001b[32m[I 2021-12-25 11:28:18,257]\u001b[0m Trial 40 finished with value: 0.5427656689715513 and parameters: {'n_estimators': 187, 'max_depth': 140, 'min_samples_split': 12, 'n_jobs': -1}. Best is trial 21 with value: 0.5563599061756956.\u001b[0m\n",
      "\u001b[32m[I 2021-12-25 11:28:23,708]\u001b[0m Trial 41 finished with value: 0.5256209737974443 and parameters: {'n_estimators': 164, 'max_depth': 146, 'min_samples_split': 12, 'n_jobs': -1}. Best is trial 21 with value: 0.5563599061756956.\u001b[0m\n",
      "\u001b[32m[I 2021-12-25 11:28:30,536]\u001b[0m Trial 42 finished with value: 0.5314241183652948 and parameters: {'n_estimators': 198, 'max_depth': 135, 'min_samples_split': 12, 'n_jobs': -1}. Best is trial 21 with value: 0.5563599061756956.\u001b[0m\n",
      "\u001b[32m[I 2021-12-25 11:28:36,789]\u001b[0m Trial 43 finished with value: 0.5026105829155364 and parameters: {'n_estimators': 186, 'max_depth': 116, 'min_samples_split': 14, 'n_jobs': -1}. Best is trial 21 with value: 0.5563599061756956.\u001b[0m\n",
      "\u001b[32m[I 2021-12-25 11:28:42,796]\u001b[0m Trial 44 finished with value: 0.537549988195499 and parameters: {'n_estimators': 200, 'max_depth': 94, 'min_samples_split': 12, 'n_jobs': -1}. Best is trial 21 with value: 0.5563599061756956.\u001b[0m\n",
      "\u001b[32m[I 2021-12-25 11:28:48,864]\u001b[0m Trial 45 finished with value: 0.49937457966869736 and parameters: {'n_estimators': 189, 'max_depth': 140, 'min_samples_split': 13, 'n_jobs': -1}. Best is trial 21 with value: 0.5563599061756956.\u001b[0m\n",
      "\u001b[32m[I 2021-12-25 11:28:54,976]\u001b[0m Trial 46 finished with value: 0.5432725575078516 and parameters: {'n_estimators': 170, 'max_depth': 152, 'min_samples_split': 11, 'n_jobs': -1}. Best is trial 21 with value: 0.5563599061756956.\u001b[0m\n",
      "\u001b[32m[I 2021-12-25 11:29:01,134]\u001b[0m Trial 47 finished with value: 0.5136067819349555 and parameters: {'n_estimators': 168, 'max_depth': 176, 'min_samples_split': 11, 'n_jobs': -1}. Best is trial 21 with value: 0.5563599061756956.\u001b[0m\n",
      "\u001b[32m[I 2021-12-25 11:29:07,514]\u001b[0m Trial 48 finished with value: 0.5113137418137419 and parameters: {'n_estimators': 160, 'max_depth': 151, 'min_samples_split': 7, 'n_jobs': -1}. Best is trial 21 with value: 0.5563599061756956.\u001b[0m\n",
      "\u001b[32m[I 2021-12-25 11:29:12,910]\u001b[0m Trial 49 finished with value: 0.5339204847440141 and parameters: {'n_estimators': 145, 'max_depth': 167, 'min_samples_split': 10, 'n_jobs': -1}. Best is trial 21 with value: 0.5563599061756956.\u001b[0m\n",
      "\u001b[32m[I 2021-12-25 11:29:18,849]\u001b[0m Trial 50 finished with value: 0.5343125632537398 and parameters: {'n_estimators': 182, 'max_depth': 196, 'min_samples_split': 9, 'n_jobs': -1}. Best is trial 21 with value: 0.5563599061756956.\u001b[0m\n",
      "\u001b[32m[I 2021-12-25 11:29:25,629]\u001b[0m Trial 51 finished with value: 0.5344942998178291 and parameters: {'n_estimators': 191, 'max_depth': 126, 'min_samples_split': 11, 'n_jobs': -1}. Best is trial 21 with value: 0.5563599061756956.\u001b[0m\n",
      "\u001b[32m[I 2021-12-25 11:29:31,899]\u001b[0m Trial 52 finished with value: 0.5083800349976821 and parameters: {'n_estimators': 179, 'max_depth': 159, 'min_samples_split': 12, 'n_jobs': -1}. Best is trial 21 with value: 0.5563599061756956.\u001b[0m\n",
      "\u001b[32m[I 2021-12-25 11:29:37,939]\u001b[0m Trial 53 finished with value: 0.5303516457742464 and parameters: {'n_estimators': 172, 'max_depth': 141, 'min_samples_split': 10, 'n_jobs': -1}. Best is trial 21 with value: 0.5563599061756956.\u001b[0m\n",
      "\u001b[32m[I 2021-12-25 11:29:44,374]\u001b[0m Trial 54 finished with value: 0.5444693215281451 and parameters: {'n_estimators': 193, 'max_depth': 103, 'min_samples_split': 12, 'n_jobs': -1}. Best is trial 21 with value: 0.5563599061756956.\u001b[0m\n",
      "\u001b[32m[I 2021-12-25 11:29:50,895]\u001b[0m Trial 55 finished with value: 0.5392669552669552 and parameters: {'n_estimators': 192, 'max_depth': 99, 'min_samples_split': 11, 'n_jobs': -1}. Best is trial 21 with value: 0.5563599061756956.\u001b[0m\n",
      "\u001b[32m[I 2021-12-25 11:29:56,643]\u001b[0m Trial 56 finished with value: 0.5183192344291415 and parameters: {'n_estimators': 153, 'max_depth': 64, 'min_samples_split': 13, 'n_jobs': -1}. Best is trial 21 with value: 0.5563599061756956.\u001b[0m\n",
      "\u001b[32m[I 2021-12-25 11:30:02,811]\u001b[0m Trial 57 finished with value: 0.5172143621772105 and parameters: {'n_estimators': 174, 'max_depth': 107, 'min_samples_split': 12, 'n_jobs': -1}. Best is trial 21 with value: 0.5563599061756956.\u001b[0m\n",
      "\u001b[32m[I 2021-12-25 11:30:09,141]\u001b[0m Trial 58 finished with value: 0.5322510420436117 and parameters: {'n_estimators': 185, 'max_depth': 118, 'min_samples_split': 11, 'n_jobs': -1}. Best is trial 21 with value: 0.5563599061756956.\u001b[0m\n",
      "\u001b[32m[I 2021-12-25 11:30:13,070]\u001b[0m Trial 59 finished with value: 0.5233417040475864 and parameters: {'n_estimators': 73, 'max_depth': 71, 'min_samples_split': 8, 'n_jobs': -1}. Best is trial 21 with value: 0.5563599061756956.\u001b[0m\n"
     ]
    }
   ],
   "source": [
    "model = RandomForestClassifier\n",
    "trials = 60\n",
    "study = optuna.create_study(direction='maximize')\n",
    "study.optimize(lambda x: objective(x, model, X_train_scaled, y_train), n_trials=trials)"
   ]
  },
  {
   "cell_type": "code",
   "execution_count": 17,
   "id": "13a2ae4c",
   "metadata": {
    "scrolled": true
   },
   "outputs": [
    {
     "name": "stdout",
     "output_type": "stream",
     "text": [
      "Classification accuracy: 0.61\n",
      "Classification F1-score: 0.60\n"
     ]
    },
    {
     "data": {
      "image/png": "[encoded data removed]",
      "text/plain": [
       "<Figure size 432x288 with 2 Axes>"
      ]
     },
     "metadata": {
      "needs_background": "light"
     },
     "output_type": "display_data"
    }
   ],
   "source": [
    "model = RandomForestClassifier(**study.best_params)\n",
    "model.fit(X_train_scaled, y_train)\n",
    "y_pred = model.predict(X_test_scaled)\n",
    "plot_confusion_matrix(model, X_test_scaled, y_test, cmap='Blues')\n",
    "calculate_metrics(y_test, y_pred)"
   ]
  },
  {
   "cell_type": "markdown",
   "id": "b2774b25",
   "metadata": {},
   "source": [
    "Model Random Forest zwraca gorsze wyniki niż SVM. Prawdopodobnie szerzej zakrojone poszukiwania optymalnych hiperparametrów mogłyby poprawić sytuację, jednak nie uważam, że poprawiłyby ją na tyle, aby warto było ich poszukiwać."
   ]
  },
  {
   "cell_type": "markdown",
   "id": "59c3fb75",
   "metadata": {},
   "source": [
    "#### LGBM"
   ]
  },
  {
   "cell_type": "code",
   "execution_count": 25,
   "id": "01641e11",
   "metadata": {},
   "outputs": [],
   "source": [
    "scoring = {'f1_macro': make_scorer(f1_score, average='macro')}\n",
    "\n",
    "def get_space(trial): \n",
    "    space = {\"boosting_type\": trial.suggest_categorical('boosting_type', [\"gbdt\"]),\n",
    "            \"num_leaves\": trial.suggest_int(\"num_leaves\", 2, 200),\n",
    "            \"n_estimators\": trial.suggest_int(\"n_estimators\", 2, 200),\n",
    "            \"max_depth\": trial.suggest_int(\"max_depth\", 2, 200),\n",
    "            \"learning_rate\": trial.suggest_discrete_uniform(\"learning_rate\", 0.00001, 1, 0.0001),\n",
    "            \"subsample\": trial.suggest_discrete_uniform(\"subsample\", 0.01, 1, 0.01),\n",
    "            \"colsample_bytree\": trial.suggest_discrete_uniform(\"colsample_bytree\", 0.01, 1, 0.01),\n",
    "            \"min_split_gain\": trial.suggest_discrete_uniform(\"min_split_gain\", 0.01, 1, 0.01),\n",
    "            \"min_child_samples\": trial.suggest_int(\"min_child_samples\", 1, 50),\n",
    "            \"n_jobs\": trial.suggest_int(\"n_jobs\", -1, -1)}\n",
    "    return space\n",
    "\n",
    "def objective(trial, model, X, y):\n",
    "    model_space = get_space(trial)\n",
    "\n",
    "    mdl = model(**model_space)\n",
    "    scores = cross_validate(mdl, X, y, scoring=scoring, cv=StratifiedKFold(n_splits=5), return_train_score=True)\n",
    "\n",
    "    return np.mean(scores['test_f1_macro'])"
   ]
  },
  {
   "cell_type": "code",
   "execution_count": 31,
   "id": "12dae117",
   "metadata": {},
   "outputs": [
    {
     "name": "stderr",
     "output_type": "stream",
     "text": [
      "\u001b[32m[I 2021-12-25 11:59:35,661]\u001b[0m A new study created in memory with name: no-name-79be9df3-af2a-4d1d-b62d-06ce42c5cc48\u001b[0m\n",
      "C:\\Users\\kukli\\.conda\\envs\\PUM\\lib\\site-packages\\optuna\\distributions.py:547: UserWarning: The distribution is specified by [1e-05, 1] and q=0.0001, but the range is not divisible by `q`. It will be replaced by [1e-05, 0.99991].\n",
      "  warnings.warn(\n",
      "\u001b[32m[I 2021-12-25 12:00:59,992]\u001b[0m Trial 0 finished with value: 0.4218220632137041 and parameters: {'boosting_type': 'gbdt', 'num_leaves': 155, 'n_estimators': 165, 'max_depth': 197, 'learning_rate': 0.30241, 'subsample': 0.21000000000000002, 'colsample_bytree': 0.79, 'min_split_gain': 0.28, 'min_child_samples': 44, 'n_jobs': -1}. Best is trial 0 with value: 0.4218220632137041.\u001b[0m\n",
      "C:\\Users\\kukli\\.conda\\envs\\PUM\\lib\\site-packages\\optuna\\distributions.py:547: UserWarning: The distribution is specified by [1e-05, 1] and q=0.0001, but the range is not divisible by `q`. It will be replaced by [1e-05, 0.99991].\n",
      "  warnings.warn(\n",
      "\u001b[32m[I 2021-12-25 12:02:11,794]\u001b[0m Trial 1 finished with value: 0.16612526826209692 and parameters: {'boosting_type': 'gbdt', 'num_leaves': 143, 'n_estimators': 191, 'max_depth': 110, 'learning_rate': 0.92771, 'subsample': 0.46, 'colsample_bytree': 0.6, 'min_split_gain': 0.060000000000000005, 'min_child_samples': 7, 'n_jobs': -1}. Best is trial 0 with value: 0.4218220632137041.\u001b[0m\n",
      "C:\\Users\\kukli\\.conda\\envs\\PUM\\lib\\site-packages\\optuna\\distributions.py:547: UserWarning: The distribution is specified by [1e-05, 1] and q=0.0001, but the range is not divisible by `q`. It will be replaced by [1e-05, 0.99991].\n",
      "  warnings.warn(\n",
      "\u001b[32m[I 2021-12-25 12:03:10,498]\u001b[0m Trial 2 finished with value: 0.4545215615138215 and parameters: {'boosting_type': 'gbdt', 'num_leaves': 37, 'n_estimators': 94, 'max_depth': 31, 'learning_rate': 0.18991000000000002, 'subsample': 0.48000000000000004, 'colsample_bytree': 0.98, 'min_split_gain': 0.4, 'min_child_samples': 48, 'n_jobs': -1}. Best is trial 2 with value: 0.4545215615138215.\u001b[0m\n",
      "C:\\Users\\kukli\\.conda\\envs\\PUM\\lib\\site-packages\\optuna\\distributions.py:547: UserWarning: The distribution is specified by [1e-05, 1] and q=0.0001, but the range is not divisible by `q`. It will be replaced by [1e-05, 0.99991].\n",
      "  warnings.warn(\n",
      "\u001b[32m[I 2021-12-25 12:03:49,668]\u001b[0m Trial 3 finished with value: 0.43026378849908264 and parameters: {'boosting_type': 'gbdt', 'num_leaves': 97, 'n_estimators': 97, 'max_depth': 12, 'learning_rate': 0.22291000000000002, 'subsample': 0.8300000000000001, 'colsample_bytree': 0.42000000000000004, 'min_split_gain': 0.7100000000000001, 'min_child_samples': 27, 'n_jobs': -1}. Best is trial 2 with value: 0.4545215615138215.\u001b[0m\n",
      "C:\\Users\\kukli\\.conda\\envs\\PUM\\lib\\site-packages\\optuna\\distributions.py:547: UserWarning: The distribution is specified by [1e-05, 1] and q=0.0001, but the range is not divisible by `q`. It will be replaced by [1e-05, 0.99991].\n",
      "  warnings.warn(\n",
      "\u001b[32m[I 2021-12-25 12:04:09,505]\u001b[0m Trial 4 finished with value: 0.42507465736877503 and parameters: {'boosting_type': 'gbdt', 'num_leaves': 26, 'n_estimators': 23, 'max_depth': 141, 'learning_rate': 0.47991000000000006, 'subsample': 0.42000000000000004, 'colsample_bytree': 0.35000000000000003, 'min_split_gain': 0.27, 'min_child_samples': 28, 'n_jobs': -1}. Best is trial 2 with value: 0.4545215615138215.\u001b[0m\n",
      "C:\\Users\\kukli\\.conda\\envs\\PUM\\lib\\site-packages\\optuna\\distributions.py:547: UserWarning: The distribution is specified by [1e-05, 1] and q=0.0001, but the range is not divisible by `q`. It will be replaced by [1e-05, 0.99991].\n",
      "  warnings.warn(\n",
      "\u001b[32m[I 2021-12-25 12:05:32,405]\u001b[0m Trial 5 finished with value: 0.3945821466115583 and parameters: {'boosting_type': 'gbdt', 'num_leaves': 145, 'n_estimators': 160, 'max_depth': 54, 'learning_rate': 0.57501, 'subsample': 0.03, 'colsample_bytree': 0.9500000000000001, 'min_split_gain': 0.28, 'min_child_samples': 30, 'n_jobs': -1}. Best is trial 2 with value: 0.4545215615138215.\u001b[0m\n",
      "C:\\Users\\kukli\\.conda\\envs\\PUM\\lib\\site-packages\\optuna\\distributions.py:547: UserWarning: The distribution is specified by [1e-05, 1] and q=0.0001, but the range is not divisible by `q`. It will be replaced by [1e-05, 0.99991].\n",
      "  warnings.warn(\n",
      "\u001b[32m[I 2021-12-25 12:06:19,737]\u001b[0m Trial 6 finished with value: 0.4409546433958199 and parameters: {'boosting_type': 'gbdt', 'num_leaves': 40, 'n_estimators': 90, 'max_depth': 182, 'learning_rate': 0.26691000000000004, 'subsample': 0.4, 'colsample_bytree': 0.59, 'min_split_gain': 0.21000000000000002, 'min_child_samples': 23, 'n_jobs': -1}. Best is trial 2 with value: 0.4545215615138215.\u001b[0m\n",
      "C:\\Users\\kukli\\.conda\\envs\\PUM\\lib\\site-packages\\optuna\\distributions.py:547: UserWarning: The distribution is specified by [1e-05, 1] and q=0.0001, but the range is not divisible by `q`. It will be replaced by [1e-05, 0.99991].\n",
      "  warnings.warn(\n",
      "\u001b[32m[I 2021-12-25 12:06:59,009]\u001b[0m Trial 7 finished with value: 0.3799888216358805 and parameters: {'boosting_type': 'gbdt', 'num_leaves': 109, 'n_estimators': 83, 'max_depth': 155, 'learning_rate': 0.34231, 'subsample': 0.75, 'colsample_bytree': 0.53, 'min_split_gain': 0.72, 'min_child_samples': 27, 'n_jobs': -1}. Best is trial 2 with value: 0.4545215615138215.\u001b[0m\n",
      "C:\\Users\\kukli\\.conda\\envs\\PUM\\lib\\site-packages\\optuna\\distributions.py:547: UserWarning: The distribution is specified by [1e-05, 1] and q=0.0001, but the range is not divisible by `q`. It will be replaced by [1e-05, 0.99991].\n",
      "  warnings.warn(\n"
     ]
    },
    {
     "name": "stdout",
     "output_type": "stream",
     "text": [
      "[LightGBM] [Warning] Accuracy may be bad since you didn't set num_leaves and 2^max_depth > num_leaves\n",
      "[LightGBM] [Warning] Accuracy may be bad since you didn't set num_leaves and 2^max_depth > num_leaves\n",
      "[LightGBM] [Warning] Accuracy may be bad since you didn't set num_leaves and 2^max_depth > num_leaves\n",
      "[LightGBM] [Warning] Accuracy may be bad since you didn't set num_leaves and 2^max_depth > num_leaves\n",
      "[LightGBM] [Warning] Accuracy may be bad since you didn't set num_leaves and 2^max_depth > num_leaves\n"
     ]
    },
    {
     "name": "stderr",
     "output_type": "stream",
     "text": [
      "\u001b[32m[I 2021-12-25 12:08:09,413]\u001b[0m Trial 8 finished with value: 0.3934301939890176 and parameters: {'boosting_type': 'gbdt', 'num_leaves': 31, 'n_estimators': 169, 'max_depth': 148, 'learning_rate': 0.45631000000000005, 'subsample': 0.44, 'colsample_bytree': 0.79, 'min_split_gain': 0.6, 'min_child_samples': 45, 'n_jobs': -1}. Best is trial 2 with value: 0.4545215615138215.\u001b[0m\n",
      "C:\\Users\\kukli\\.conda\\envs\\PUM\\lib\\site-packages\\optuna\\distributions.py:547: UserWarning: The distribution is specified by [1e-05, 1] and q=0.0001, but the range is not divisible by `q`. It will be replaced by [1e-05, 0.99991].\n",
      "  warnings.warn(\n",
      "\u001b[32m[I 2021-12-25 12:08:39,467]\u001b[0m Trial 9 finished with value: 0.4245936481818835 and parameters: {'boosting_type': 'gbdt', 'num_leaves': 119, 'n_estimators': 10, 'max_depth': 104, 'learning_rate': 0.052110000000000004, 'subsample': 0.67, 'colsample_bytree': 0.64, 'min_split_gain': 0.7100000000000001, 'min_child_samples': 11, 'n_jobs': -1}. Best is trial 2 with value: 0.4545215615138215.\u001b[0m\n",
      "C:\\Users\\kukli\\.conda\\envs\\PUM\\lib\\site-packages\\optuna\\distributions.py:547: UserWarning: The distribution is specified by [1e-05, 1] and q=0.0001, but the range is not divisible by `q`. It will be replaced by [1e-05, 0.99991].\n",
      "  warnings.warn(\n",
      "\u001b[32m[I 2021-12-25 12:08:52,535]\u001b[0m Trial 10 finished with value: 0.3736872917244434 and parameters: {'boosting_type': 'gbdt', 'num_leaves': 69, 'n_estimators': 33, 'max_depth': 3, 'learning_rate': 0.00681, 'subsample': 0.19, 'colsample_bytree': 0.02, 'min_split_gain': 1.0, 'min_child_samples': 50, 'n_jobs': -1}. Best is trial 2 with value: 0.4545215615138215.\u001b[0m\n",
      "C:\\Users\\kukli\\.conda\\envs\\PUM\\lib\\site-packages\\optuna\\distributions.py:547: UserWarning: The distribution is specified by [1e-05, 1] and q=0.0001, but the range is not divisible by `q`. It will be replaced by [1e-05, 0.99991].\n",
      "  warnings.warn(\n",
      "\u001b[32m[I 2021-12-25 12:09:21,020]\u001b[0m Trial 11 finished with value: 0.49512868967977325 and parameters: {'boosting_type': 'gbdt', 'num_leaves': 5, 'n_estimators': 73, 'max_depth': 56, 'learning_rate': 0.13901000000000002, 'subsample': 0.5800000000000001, 'colsample_bytree': 0.19, 'min_split_gain': 0.060000000000000005, 'min_child_samples': 14, 'n_jobs': -1}. Best is trial 11 with value: 0.49512868967977325.\u001b[0m\n",
      "C:\\Users\\kukli\\.conda\\envs\\PUM\\lib\\site-packages\\optuna\\distributions.py:547: UserWarning: The distribution is specified by [1e-05, 1] and q=0.0001, but the range is not divisible by `q`. It will be replaced by [1e-05, 0.99991].\n",
      "  warnings.warn(\n",
      "\u001b[32m[I 2021-12-25 12:09:38,419]\u001b[0m Trial 12 finished with value: 0.45915065326830035 and parameters: {'boosting_type': 'gbdt', 'num_leaves': 2, 'n_estimators': 59, 'max_depth': 54, 'learning_rate': 0.11521, 'subsample': 0.6, 'colsample_bytree': 0.14, 'min_split_gain': 0.01, 'min_child_samples': 16, 'n_jobs': -1}. Best is trial 11 with value: 0.49512868967977325.\u001b[0m\n",
      "C:\\Users\\kukli\\.conda\\envs\\PUM\\lib\\site-packages\\optuna\\distributions.py:547: UserWarning: The distribution is specified by [1e-05, 1] and q=0.0001, but the range is not divisible by `q`. It will be replaced by [1e-05, 0.99991].\n",
      "  warnings.warn(\n",
      "\u001b[32m[I 2021-12-25 12:09:55,786]\u001b[0m Trial 13 finished with value: 0.40066667474252615 and parameters: {'boosting_type': 'gbdt', 'num_leaves': 6, 'n_estimators': 54, 'max_depth': 62, 'learning_rate': 0.69701, 'subsample': 0.64, 'colsample_bytree': 0.11, 'min_split_gain': 0.01, 'min_child_samples': 16, 'n_jobs': -1}. Best is trial 11 with value: 0.49512868967977325.\u001b[0m\n",
      "C:\\Users\\kukli\\.conda\\envs\\PUM\\lib\\site-packages\\optuna\\distributions.py:547: UserWarning: The distribution is specified by [1e-05, 1] and q=0.0001, but the range is not divisible by `q`. It will be replaced by [1e-05, 0.99991].\n",
      "  warnings.warn(\n",
      "\u001b[32m[I 2021-12-25 12:11:00,802]\u001b[0m Trial 14 finished with value: 0.5017044790434882 and parameters: {'boosting_type': 'gbdt', 'num_leaves': 188, 'n_estimators': 131, 'max_depth': 73, 'learning_rate': 0.09061, 'subsample': 1.0, 'colsample_bytree': 0.25, 'min_split_gain': 0.08, 'min_child_samples': 3, 'n_jobs': -1}. Best is trial 14 with value: 0.5017044790434882.\u001b[0m\n",
      "C:\\Users\\kukli\\.conda\\envs\\PUM\\lib\\site-packages\\optuna\\distributions.py:547: UserWarning: The distribution is specified by [1e-05, 1] and q=0.0001, but the range is not divisible by `q`. It will be replaced by [1e-05, 0.99991].\n",
      "  warnings.warn(\n",
      "\u001b[32m[I 2021-12-25 12:15:15,679]\u001b[0m Trial 15 finished with value: 0.516441992647875 and parameters: {'boosting_type': 'gbdt', 'num_leaves': 198, 'n_estimators': 132, 'max_depth': 80, 'learning_rate': 0.00231, 'subsample': 1.0, 'colsample_bytree': 0.28, 'min_split_gain': 0.12, 'min_child_samples': 1, 'n_jobs': -1}. Best is trial 15 with value: 0.516441992647875.\u001b[0m\n",
      "C:\\Users\\kukli\\.conda\\envs\\PUM\\lib\\site-packages\\optuna\\distributions.py:547: UserWarning: The distribution is specified by [1e-05, 1] and q=0.0001, but the range is not divisible by `q`. It will be replaced by [1e-05, 0.99991].\n",
      "  warnings.warn(\n",
      "\u001b[32m[I 2021-12-25 12:17:56,851]\u001b[0m Trial 16 finished with value: 0.5225924587967932 and parameters: {'boosting_type': 'gbdt', 'num_leaves': 199, 'n_estimators': 128, 'max_depth': 79, 'learning_rate': 0.01131, 'subsample': 0.98, 'colsample_bytree': 0.28, 'min_split_gain': 0.15000000000000002, 'min_child_samples': 4, 'n_jobs': -1}. Best is trial 16 with value: 0.5225924587967932.\u001b[0m\n",
      "C:\\Users\\kukli\\.conda\\envs\\PUM\\lib\\site-packages\\optuna\\distributions.py:547: UserWarning: The distribution is specified by [1e-05, 1] and q=0.0001, but the range is not divisible by `q`. It will be replaced by [1e-05, 0.99991].\n",
      "  warnings.warn(\n",
      "\u001b[32m[I 2021-12-25 12:20:27,228]\u001b[0m Trial 17 finished with value: 0.520193929221793 and parameters: {'boosting_type': 'gbdt', 'num_leaves': 188, 'n_estimators': 132, 'max_depth': 82, 'learning_rate': 0.00961, 'subsample': 1.0, 'colsample_bytree': 0.32, 'min_split_gain': 0.43, 'min_child_samples': 2, 'n_jobs': -1}. Best is trial 16 with value: 0.5225924587967932.\u001b[0m\n",
      "C:\\Users\\kukli\\.conda\\envs\\PUM\\lib\\site-packages\\optuna\\distributions.py:547: UserWarning: The distribution is specified by [1e-05, 1] and q=0.0001, but the range is not divisible by `q`. It will be replaced by [1e-05, 0.99991].\n",
      "  warnings.warn(\n",
      "\u001b[32m[I 2021-12-25 12:21:15,062]\u001b[0m Trial 18 finished with value: 0.27264628943293634 and parameters: {'boosting_type': 'gbdt', 'num_leaves': 173, 'n_estimators': 125, 'max_depth': 123, 'learning_rate': 0.96061, 'subsample': 0.91, 'colsample_bytree': 0.41000000000000003, 'min_split_gain': 0.45, 'min_child_samples': 1, 'n_jobs': -1}. Best is trial 16 with value: 0.5225924587967932.\u001b[0m\n",
      "C:\\Users\\kukli\\.conda\\envs\\PUM\\lib\\site-packages\\optuna\\distributions.py:547: UserWarning: The distribution is specified by [1e-05, 1] and q=0.0001, but the range is not divisible by `q`. It will be replaced by [1e-05, 0.99991].\n",
      "  warnings.warn(\n",
      "\u001b[32m[I 2021-12-25 12:21:36,394]\u001b[0m Trial 19 finished with value: 0.39115543606720077 and parameters: {'boosting_type': 'gbdt', 'num_leaves': 179, 'n_estimators': 118, 'max_depth': 90, 'learning_rate': 0.38191, 'subsample': 0.91, 'colsample_bytree': 0.04, 'min_split_gain': 0.56, 'min_child_samples': 7, 'n_jobs': -1}. Best is trial 16 with value: 0.5225924587967932.\u001b[0m\n",
      "C:\\Users\\kukli\\.conda\\envs\\PUM\\lib\\site-packages\\optuna\\distributions.py:547: UserWarning: The distribution is specified by [1e-05, 1] and q=0.0001, but the range is not divisible by `q`. It will be replaced by [1e-05, 0.99991].\n",
      "  warnings.warn(\n",
      "\u001b[32m[I 2021-12-25 12:22:25,780]\u001b[0m Trial 20 finished with value: 0.3760613079730727 and parameters: {'boosting_type': 'gbdt', 'num_leaves': 163, 'n_estimators': 196, 'max_depth': 37, 'learning_rate': 0.80691, 'subsample': 0.81, 'colsample_bytree': 0.31, 'min_split_gain': 0.9400000000000001, 'min_child_samples': 35, 'n_jobs': -1}. Best is trial 16 with value: 0.5225924587967932.\u001b[0m\n",
      "C:\\Users\\kukli\\.conda\\envs\\PUM\\lib\\site-packages\\optuna\\distributions.py:547: UserWarning: The distribution is specified by [1e-05, 1] and q=0.0001, but the range is not divisible by `q`. It will be replaced by [1e-05, 0.99991].\n",
      "  warnings.warn(\n",
      "\u001b[32m[I 2021-12-25 12:24:45,731]\u001b[0m Trial 21 finished with value: 0.47307616566440097 and parameters: {'boosting_type': 'gbdt', 'num_leaves': 200, 'n_estimators': 146, 'max_depth': 83, 'learning_rate': 0.015710000000000002, 'subsample': 0.9600000000000001, 'colsample_bytree': 0.25, 'min_split_gain': 0.16, 'min_child_samples': 1, 'n_jobs': -1}. Best is trial 16 with value: 0.5225924587967932.\u001b[0m\n"
     ]
    },
    {
     "name": "stderr",
     "output_type": "stream",
     "text": [
      "C:\\Users\\kukli\\.conda\\envs\\PUM\\lib\\site-packages\\optuna\\distributions.py:547: UserWarning: The distribution is specified by [1e-05, 1] and q=0.0001, but the range is not divisible by `q`. It will be replaced by [1e-05, 0.99991].\n",
      "  warnings.warn(\n",
      "\u001b[32m[I 2021-12-25 12:27:19,433]\u001b[0m Trial 22 finished with value: 0.49660125220496737 and parameters: {'boosting_type': 'gbdt', 'num_leaves': 200, 'n_estimators': 112, 'max_depth': 87, 'learning_rate': 0.01091, 'subsample': 0.99, 'colsample_bytree': 0.43, 'min_split_gain': 0.36000000000000004, 'min_child_samples': 6, 'n_jobs': -1}. Best is trial 16 with value: 0.5225924587967932.\u001b[0m\n",
      "C:\\Users\\kukli\\.conda\\envs\\PUM\\lib\\site-packages\\optuna\\distributions.py:547: UserWarning: The distribution is specified by [1e-05, 1] and q=0.0001, but the range is not divisible by `q`. It will be replaced by [1e-05, 0.99991].\n",
      "  warnings.warn(\n",
      "\u001b[32m[I 2021-12-25 12:28:08,221]\u001b[0m Trial 23 finished with value: 0.4620592329926695 and parameters: {'boosting_type': 'gbdt', 'num_leaves': 198, 'n_estimators': 140, 'max_depth': 113, 'learning_rate': 0.16091000000000003, 'subsample': 0.87, 'colsample_bytree': 0.29000000000000004, 'min_split_gain': 0.15000000000000002, 'min_child_samples': 11, 'n_jobs': -1}. Best is trial 16 with value: 0.5225924587967932.\u001b[0m\n",
      "C:\\Users\\kukli\\.conda\\envs\\PUM\\lib\\site-packages\\optuna\\distributions.py:547: UserWarning: The distribution is specified by [1e-05, 1] and q=0.0001, but the range is not divisible by `q`. It will be replaced by [1e-05, 0.99991].\n",
      "  warnings.warn(\n",
      "\u001b[32m[I 2021-12-25 12:29:17,039]\u001b[0m Trial 24 finished with value: 0.4941309741170422 and parameters: {'boosting_type': 'gbdt', 'num_leaves': 186, 'n_estimators': 150, 'max_depth': 74, 'learning_rate': 0.01901, 'subsample': 1.0, 'colsample_bytree': 0.18000000000000002, 'min_split_gain': 0.5, 'min_child_samples': 4, 'n_jobs': -1}. Best is trial 16 with value: 0.5225924587967932.\u001b[0m\n",
      "C:\\Users\\kukli\\.conda\\envs\\PUM\\lib\\site-packages\\optuna\\distributions.py:547: UserWarning: The distribution is specified by [1e-05, 1] and q=0.0001, but the range is not divisible by `q`. It will be replaced by [1e-05, 0.99991].\n",
      "  warnings.warn(\n",
      "\u001b[32m[I 2021-12-25 12:30:07,697]\u001b[0m Trial 25 finished with value: 0.48373309593743025 and parameters: {'boosting_type': 'gbdt', 'num_leaves': 129, 'n_estimators': 112, 'max_depth': 35, 'learning_rate': 0.10001, 'subsample': 0.75, 'colsample_bytree': 0.36000000000000004, 'min_split_gain': 0.34, 'min_child_samples': 1, 'n_jobs': -1}. Best is trial 16 with value: 0.5225924587967932.\u001b[0m\n",
      "C:\\Users\\kukli\\.conda\\envs\\PUM\\lib\\site-packages\\optuna\\distributions.py:547: UserWarning: The distribution is specified by [1e-05, 1] and q=0.0001, but the range is not divisible by `q`. It will be replaced by [1e-05, 0.99991].\n",
      "  warnings.warn(\n",
      "\u001b[32m[I 2021-12-25 12:31:14,237]\u001b[0m Trial 26 finished with value: 0.4732811100148561 and parameters: {'boosting_type': 'gbdt', 'num_leaves': 167, 'n_estimators': 178, 'max_depth': 127, 'learning_rate': 0.25681000000000004, 'subsample': 0.92, 'colsample_bytree': 0.47000000000000003, 'min_split_gain': 0.17, 'min_child_samples': 20, 'n_jobs': -1}. Best is trial 16 with value: 0.5225924587967932.\u001b[0m\n",
      "C:\\Users\\kukli\\.conda\\envs\\PUM\\lib\\site-packages\\optuna\\distributions.py:547: UserWarning: The distribution is specified by [1e-05, 1] and q=0.0001, but the range is not divisible by `q`. It will be replaced by [1e-05, 0.99991].\n",
      "  warnings.warn(\n",
      "\u001b[32m[I 2021-12-25 12:32:41,115]\u001b[0m Trial 27 finished with value: 0.5142754435107376 and parameters: {'boosting_type': 'gbdt', 'num_leaves': 199, 'n_estimators': 136, 'max_depth': 95, 'learning_rate': 0.00671, 'subsample': 0.77, 'colsample_bytree': 0.22, 'min_split_gain': 0.81, 'min_child_samples': 11, 'n_jobs': -1}. Best is trial 16 with value: 0.5225924587967932.\u001b[0m\n",
      "C:\\Users\\kukli\\.conda\\envs\\PUM\\lib\\site-packages\\optuna\\distributions.py:547: UserWarning: The distribution is specified by [1e-05, 1] and q=0.0001, but the range is not divisible by `q`. It will be replaced by [1e-05, 0.99991].\n",
      "  warnings.warn(\n",
      "\u001b[32m[I 2021-12-25 12:33:12,283]\u001b[0m Trial 28 finished with value: 0.5210812781989252 and parameters: {'boosting_type': 'gbdt', 'num_leaves': 83, 'n_estimators': 108, 'max_depth': 72, 'learning_rate': 0.07450999999999999, 'subsample': 0.9600000000000001, 'colsample_bytree': 0.09, 'min_split_gain': 0.21000000000000002, 'min_child_samples': 9, 'n_jobs': -1}. Best is trial 16 with value: 0.5225924587967932.\u001b[0m\n",
      "C:\\Users\\kukli\\.conda\\envs\\PUM\\lib\\site-packages\\optuna\\distributions.py:547: UserWarning: The distribution is specified by [1e-05, 1] and q=0.0001, but the range is not divisible by `q`. It will be replaced by [1e-05, 0.99991].\n",
      "  warnings.warn(\n",
      "\u001b[32m[I 2021-12-25 12:33:32,836]\u001b[0m Trial 29 finished with value: 0.45472048677157034 and parameters: {'boosting_type': 'gbdt', 'num_leaves': 76, 'n_estimators': 106, 'max_depth': 20, 'learning_rate': 0.34511000000000003, 'subsample': 0.32, 'colsample_bytree': 0.060000000000000005, 'min_split_gain': 0.25, 'min_child_samples': 36, 'n_jobs': -1}. Best is trial 16 with value: 0.5225924587967932.\u001b[0m\n"
     ]
    }
   ],
   "source": [
    "model = lgb.LGBMClassifier\n",
    "trials = 30\n",
    "study = optuna.create_study(direction='maximize')\n",
    "study.optimize(lambda x: objective(x, model, X_train_scaled, y_train), n_trials=trials)"
   ]
  },
  {
   "cell_type": "code",
   "execution_count": 32,
   "id": "7ce05910",
   "metadata": {
    "scrolled": true
   },
   "outputs": [
    {
     "name": "stdout",
     "output_type": "stream",
     "text": [
      "Classification accuracy: 0.66\n",
      "Classification F1-score: 0.65\n"
     ]
    },
    {
     "data": {
      "image/png": "[encoded data removed]",
      "text/plain": [
       "<Figure size 432x288 with 2 Axes>"
      ]
     },
     "metadata": {
      "needs_background": "light"
     },
     "output_type": "display_data"
    }
   ],
   "source": [
    "model = lgb.LGBMClassifier(**study.best_params)\n",
    "model.fit(X_train_scaled, y_train)\n",
    "y_pred = model.predict(X_test_scaled)\n",
    "plot_confusion_matrix(model, X_test_scaled, y_test, cmap='Blues')\n",
    "calculate_metrics(y_test, y_pred)"
   ]
  },
  {
   "cell_type": "markdown",
   "id": "9871b0a8",
   "metadata": {},
   "source": [
    "Model LGBM zdecydowanie najlepiej poradził sobię z problemem. Jednak wciąż występują problemy z klasą 1 i 6 ('chainsaw', 'clock_tick'). "
   ]
  },
  {
   "cell_type": "markdown",
   "id": "eef56854",
   "metadata": {},
   "source": [
    "#### Podsumowanie"
   ]
  },
  {
   "cell_type": "markdown",
   "id": "7e901334",
   "metadata": {},
   "source": [
    "Na podstawie MFCC zostały wytrenowane 4 modele: KNN, Random Forest, SVM, LGBM. Najlpesze wyniki zwrócił model model LGBM: dokładność: 66%, F1-score: 0.65. Jednak wartości tych metryk są zabużone przez 2 klasy: 'chainsaw' i 'clock_tick', gdyż pozostałe klasy osiągały dokładność większą niż 6/8 - 75%, co jest satusfakcjonującym wynikiem. Żaden z trenowanych modeli nie poradził sobię z klasyfikacją tych klas. Prawdopodobnie powodem tak niskich wyników jest fakt, iż współczynniki MFCC nie oddają poprawnie ich charakterystych. W celu poprawienia wyników należałoby wytrenować powyższe modele na innych cechach sygnałów. Jest również prawdopodobne, że powyższe modele nie radzą sobię z taką klasyfikacją, zatem w celu poprawienia wyników należy wytrenować inny model lub sieć neuronową."
   ]
  },
  {
   "cell_type": "markdown",
   "id": "3f33d8a2",
   "metadata": {},
   "source": [
    "#### CNN"
   ]
  },
  {
   "cell_type": "code",
   "execution_count": 21,
   "id": "a8ed6245",
   "metadata": {},
   "outputs": [
    {
     "name": "stdout",
     "output_type": "stream",
     "text": [
      "(400, 12, 501, 1) (400, 10)\n"
     ]
    }
   ],
   "source": [
    "import tensorflow as tf\n",
    "import tensorflow.keras.models as models\n",
    "import tensorflow.keras.layers as layers\n",
    "\n",
    "X, y = [], []\n",
    "for row in df.iterrows(): # (index, (filename, target, category))\n",
    "    x, fs = librosa.load(os.path.join(data_path, row[1][0]), sr=None)\n",
    "    mfcc = librosa.feature.mfcc(y=x, sr=fs, **mfcc_params)[1:]\n",
    "    X.append(mfcc)\n",
    "    y.append(row[1][1])\n",
    "\n",
    "X = np.array(X)\n",
    "y = np.array(y)\n",
    "\n",
    "X = X.reshape(X.shape[0], X.shape[1], X.shape[2], 1)\n",
    "y = tf.keras.utils.to_categorical(y, num_classes=10)\n",
    "print(X.shape, y.shape)\n",
    "\n",
    "input_shape = X.shape[1:]\n",
    "\n",
    "X_train, X_test, y_train, y_test = train_test_split(X, y, test_size=0.2, stratify=y, random_state=42)"
   ]
  },
  {
   "cell_type": "code",
   "execution_count": 22,
   "id": "86f6f7d4",
   "metadata": {},
   "outputs": [
    {
     "name": "stdout",
     "output_type": "stream",
     "text": [
      "Model: \"sequential\"\n",
      "_________________________________________________________________\n",
      " Layer (type)                Output Shape              Param #   \n",
      "=================================================================\n",
      " conv2d (Conv2D)             (None, 10, 499, 32)       320       \n",
      "                                                                 \n",
      " conv2d_1 (Conv2D)           (None, 8, 497, 128)       36992     \n",
      "                                                                 \n",
      " dropout (Dropout)           (None, 8, 497, 128)       0         \n",
      "                                                                 \n",
      " conv2d_2 (Conv2D)           (None, 6, 495, 128)       147584    \n",
      "                                                                 \n",
      " dropout_1 (Dropout)         (None, 6, 495, 128)       0         \n",
      "                                                                 \n",
      " global_average_pooling2d (G  (None, 128)              0         \n",
      " lobalAveragePooling2D)                                          \n",
      "                                                                 \n",
      " dense (Dense)               (None, 512)               66048     \n",
      "                                                                 \n",
      " dense_1 (Dense)             (None, 10)                5130      \n",
      "                                                                 \n",
      "=================================================================\n",
      "Total params: 256,074\n",
      "Trainable params: 256,074\n",
      "Non-trainable params: 0\n",
      "_________________________________________________________________\n"
     ]
    }
   ],
   "source": [
    "model = models.Sequential([\n",
    "    layers.Conv2D(32, (3,3), activation='relu', padding='valid', input_shape=input_shape),  \n",
    "    layers.Conv2D(128, (3,3), activation='relu', padding='valid'),\n",
    "    layers.Dropout(0.3),\n",
    "    layers.Conv2D(128, (3,3), activation='relu', padding='valid'),\n",
    "    layers.Dropout(0.3),\n",
    "    layers.GlobalAveragePooling2D(),\n",
    "    layers.Dense(512, activation='relu'),\n",
    "    layers.Dense(10, activation='softmax')\n",
    "])\n",
    "model.compile(loss='categorical_crossentropy', optimizer='adam', metrics='acc')\n",
    "model.summary()"
   ]
  },
  {
   "cell_type": "code",
   "execution_count": 23,
   "id": "e89772cb",
   "metadata": {},
   "outputs": [
    {
     "name": "stdout",
     "output_type": "stream",
     "text": [
      "Epoch 1/60\n",
      "10/10 [==============================] - 11s 979ms/step - loss: 2.2857 - acc: 0.1625 - val_loss: 2.0070 - val_acc: 0.3375\n",
      "Epoch 2/60\n",
      "10/10 [==============================] - 9s 950ms/step - loss: 1.8438 - acc: 0.3375 - val_loss: 1.7119 - val_acc: 0.4000\n",
      "Epoch 3/60\n",
      "10/10 [==============================] - 10s 984ms/step - loss: 1.5598 - acc: 0.4812 - val_loss: 1.5985 - val_acc: 0.4500\n",
      "Epoch 4/60\n",
      "10/10 [==============================] - 10s 979ms/step - loss: 1.4007 - acc: 0.5031 - val_loss: 1.5317 - val_acc: 0.4125\n",
      "Epoch 5/60\n",
      "10/10 [==============================] - 10s 971ms/step - loss: 1.2471 - acc: 0.5719 - val_loss: 1.2870 - val_acc: 0.5875\n",
      "Epoch 6/60\n",
      "10/10 [==============================] - 10s 979ms/step - loss: 1.1709 - acc: 0.5875 - val_loss: 1.4672 - val_acc: 0.4375\n",
      "Epoch 7/60\n",
      "10/10 [==============================] - 10s 972ms/step - loss: 1.0773 - acc: 0.6531 - val_loss: 1.3592 - val_acc: 0.5750\n",
      "Epoch 8/60\n",
      "10/10 [==============================] - 10s 973ms/step - loss: 0.9981 - acc: 0.6469 - val_loss: 1.2539 - val_acc: 0.5875\n",
      "Epoch 9/60\n",
      "10/10 [==============================] - 10s 1s/step - loss: 0.8686 - acc: 0.7344 - val_loss: 1.1123 - val_acc: 0.7250\n",
      "Epoch 10/60\n",
      "10/10 [==============================] - 10s 1s/step - loss: 0.8055 - acc: 0.7500 - val_loss: 1.0497 - val_acc: 0.7000\n",
      "Epoch 11/60\n",
      "10/10 [==============================] - 10s 1s/step - loss: 0.8366 - acc: 0.7281 - val_loss: 1.0958 - val_acc: 0.6625\n",
      "Epoch 12/60\n",
      "10/10 [==============================] - 10s 1000ms/step - loss: 0.7420 - acc: 0.7563 - val_loss: 1.2660 - val_acc: 0.6125\n",
      "Epoch 13/60\n",
      "10/10 [==============================] - 10s 1s/step - loss: 0.7601 - acc: 0.7781 - val_loss: 0.8161 - val_acc: 0.7875\n",
      "Epoch 14/60\n",
      "10/10 [==============================] - 10s 1s/step - loss: 0.6882 - acc: 0.7969 - val_loss: 1.2248 - val_acc: 0.6250\n",
      "Epoch 15/60\n",
      "10/10 [==============================] - 10s 1s/step - loss: 0.6347 - acc: 0.8000 - val_loss: 0.9241 - val_acc: 0.7000\n",
      "Epoch 16/60\n",
      "10/10 [==============================] - 10s 1s/step - loss: 0.5955 - acc: 0.7969 - val_loss: 1.1898 - val_acc: 0.6500\n",
      "Epoch 17/60\n",
      "10/10 [==============================] - 10s 1000ms/step - loss: 0.5129 - acc: 0.8156 - val_loss: 0.9586 - val_acc: 0.7000\n",
      "Epoch 18/60\n",
      "10/10 [==============================] - 10s 1s/step - loss: 0.5030 - acc: 0.8313 - val_loss: 1.3034 - val_acc: 0.6875\n",
      "Epoch 19/60\n",
      "10/10 [==============================] - 10s 1s/step - loss: 0.4490 - acc: 0.8594 - val_loss: 0.8409 - val_acc: 0.7250\n",
      "Epoch 20/60\n",
      "10/10 [==============================] - 10s 1s/step - loss: 0.3769 - acc: 0.8750 - val_loss: 1.0780 - val_acc: 0.6750\n",
      "Epoch 21/60\n",
      "10/10 [==============================] - 10s 995ms/step - loss: 0.4049 - acc: 0.8844 - val_loss: 1.0206 - val_acc: 0.6750\n",
      "Epoch 22/60\n",
      "10/10 [==============================] - 10s 1s/step - loss: 0.3332 - acc: 0.8875 - val_loss: 0.9708 - val_acc: 0.7125\n",
      "Epoch 23/60\n",
      "10/10 [==============================] - 10s 1s/step - loss: 0.3344 - acc: 0.8969 - val_loss: 0.9958 - val_acc: 0.7375\n",
      "Epoch 24/60\n",
      "10/10 [==============================] - 10s 1s/step - loss: 0.3215 - acc: 0.9000 - val_loss: 1.0868 - val_acc: 0.7375\n",
      "Epoch 25/60\n",
      "10/10 [==============================] - 10s 1s/step - loss: 0.2778 - acc: 0.9062 - val_loss: 1.0360 - val_acc: 0.6625\n",
      "Epoch 26/60\n",
      "10/10 [==============================] - 10s 1s/step - loss: 0.2877 - acc: 0.9062 - val_loss: 1.1091 - val_acc: 0.7250\n",
      "Epoch 27/60\n",
      "10/10 [==============================] - 10s 1s/step - loss: 0.3581 - acc: 0.8656 - val_loss: 0.9460 - val_acc: 0.7250\n",
      "Epoch 28/60\n",
      "10/10 [==============================] - 10s 1s/step - loss: 0.3052 - acc: 0.9000 - val_loss: 1.0987 - val_acc: 0.6875\n",
      "Epoch 29/60\n",
      "10/10 [==============================] - 10s 1000ms/step - loss: 0.2918 - acc: 0.9156 - val_loss: 0.9519 - val_acc: 0.7375\n",
      "Epoch 30/60\n",
      "10/10 [==============================] - 10s 1s/step - loss: 0.2880 - acc: 0.9031 - val_loss: 1.0161 - val_acc: 0.7125\n",
      "Epoch 31/60\n",
      "10/10 [==============================] - 10s 997ms/step - loss: 0.2871 - acc: 0.8875 - val_loss: 1.2156 - val_acc: 0.7000\n",
      "Epoch 32/60\n",
      "10/10 [==============================] - 10s 1s/step - loss: 0.3025 - acc: 0.8906 - val_loss: 0.8754 - val_acc: 0.7625\n",
      "Epoch 33/60\n",
      "10/10 [==============================] - 10s 1s/step - loss: 0.1949 - acc: 0.9500 - val_loss: 0.9551 - val_acc: 0.7250\n",
      "Epoch 34/60\n",
      "10/10 [==============================] - 10s 1s/step - loss: 0.1563 - acc: 0.9625 - val_loss: 0.9291 - val_acc: 0.7125\n",
      "Epoch 35/60\n",
      "10/10 [==============================] - 10s 1s/step - loss: 0.1459 - acc: 0.9656 - val_loss: 0.9637 - val_acc: 0.7375\n",
      "Epoch 36/60\n",
      "10/10 [==============================] - 10s 1s/step - loss: 0.2014 - acc: 0.9250 - val_loss: 1.1730 - val_acc: 0.7625\n",
      "Epoch 37/60\n",
      "10/10 [==============================] - 10s 1s/step - loss: 0.2464 - acc: 0.9219 - val_loss: 1.0247 - val_acc: 0.7250\n",
      "Epoch 38/60\n",
      "10/10 [==============================] - 10s 1s/step - loss: 0.2295 - acc: 0.9219 - val_loss: 1.3836 - val_acc: 0.6875\n",
      "Epoch 39/60\n",
      "10/10 [==============================] - 10s 1s/step - loss: 0.1556 - acc: 0.9500 - val_loss: 1.0460 - val_acc: 0.7375\n",
      "Epoch 40/60\n",
      "10/10 [==============================] - 10s 1s/step - loss: 0.1163 - acc: 0.9812 - val_loss: 0.9455 - val_acc: 0.7375\n",
      "Epoch 41/60\n",
      "10/10 [==============================] - 10s 1s/step - loss: 0.0790 - acc: 0.9844 - val_loss: 1.0644 - val_acc: 0.7250\n",
      "Epoch 42/60\n",
      "10/10 [==============================] - 10s 1s/step - loss: 0.0729 - acc: 0.9875 - val_loss: 1.0703 - val_acc: 0.7375\n",
      "Epoch 43/60\n",
      "10/10 [==============================] - 10s 1s/step - loss: 0.0573 - acc: 0.9906 - val_loss: 1.0865 - val_acc: 0.7625\n",
      "Epoch 44/60\n",
      "10/10 [==============================] - 10s 999ms/step - loss: 0.0470 - acc: 0.9937 - val_loss: 1.2122 - val_acc: 0.7250\n",
      "Epoch 45/60\n",
      "10/10 [==============================] - 10s 1s/step - loss: 0.0413 - acc: 0.9875 - val_loss: 1.2654 - val_acc: 0.7250\n",
      "Epoch 46/60\n",
      "10/10 [==============================] - 10s 1s/step - loss: 0.0689 - acc: 0.9844 - val_loss: 1.4114 - val_acc: 0.7375\n",
      "Epoch 47/60\n",
      "10/10 [==============================] - 10s 1s/step - loss: 0.0597 - acc: 0.9937 - val_loss: 1.4198 - val_acc: 0.7750\n",
      "Epoch 48/60\n",
      "10/10 [==============================] - 10s 1s/step - loss: 0.0473 - acc: 0.9906 - val_loss: 1.2908 - val_acc: 0.7000\n",
      "Epoch 49/60\n",
      "10/10 [==============================] - 10s 1s/step - loss: 0.0662 - acc: 0.9812 - val_loss: 1.7336 - val_acc: 0.7250\n",
      "Epoch 50/60\n",
      "10/10 [==============================] - 10s 1s/step - loss: 0.0714 - acc: 0.9719 - val_loss: 1.1566 - val_acc: 0.7375\n",
      "Epoch 51/60\n",
      "10/10 [==============================] - 10s 1s/step - loss: 0.0473 - acc: 0.9906 - val_loss: 1.2965 - val_acc: 0.7125\n",
      "Epoch 52/60\n",
      "10/10 [==============================] - 10s 1s/step - loss: 0.0467 - acc: 0.9937 - val_loss: 1.7147 - val_acc: 0.6875\n",
      "Epoch 53/60\n",
      "10/10 [==============================] - 10s 1s/step - loss: 0.0376 - acc: 0.9969 - val_loss: 1.3007 - val_acc: 0.7125\n",
      "Epoch 54/60\n",
      "10/10 [==============================] - 10s 1s/step - loss: 0.0255 - acc: 0.9969 - val_loss: 1.4422 - val_acc: 0.7250\n",
      "Epoch 55/60\n",
      "10/10 [==============================] - 10s 1s/step - loss: 0.0240 - acc: 1.0000 - val_loss: 1.4028 - val_acc: 0.7500\n",
      "Epoch 56/60\n",
      "10/10 [==============================] - 10s 1000ms/step - loss: 0.0283 - acc: 0.9906 - val_loss: 1.4986 - val_acc: 0.7250\n",
      "Epoch 57/60\n",
      "10/10 [==============================] - 10s 1s/step - loss: 0.0178 - acc: 1.0000 - val_loss: 1.4156 - val_acc: 0.7000\n",
      "Epoch 58/60\n",
      "10/10 [==============================] - 10s 1s/step - loss: 0.0144 - acc: 0.9969 - val_loss: 1.3117 - val_acc: 0.7375\n",
      "Epoch 59/60\n",
      "10/10 [==============================] - 10s 1s/step - loss: 0.0123 - acc: 0.9969 - val_loss: 1.3482 - val_acc: 0.7375\n",
      "Epoch 60/60\n",
      "10/10 [==============================] - 10s 1s/step - loss: 0.0094 - acc: 1.0000 - val_loss: 1.4634 - val_acc: 0.7375\n"
     ]
    }
   ],
   "source": [
    "callback = tf.keras.callbacks.EarlyStopping(monitor='val_loss', patience=8, restore_best_weights=False)\n",
    "\n",
    "history = model.fit(X_train, y_train,\n",
    "                    validation_data=(X_test, y_test),\n",
    "                    epochs=60,\n",
    "                    #callbacks = [callback],\n",
    "                    batch_size=32)"
   ]
  },
  {
   "cell_type": "code",
   "execution_count": 24,
   "id": "e6f32a96",
   "metadata": {
    "scrolled": true
   },
   "outputs": [
    {
     "data": {
      "image/png": "[encoded data removed]",
      "text/plain": [
       "<Figure size 864x432 with 2 Axes>"
      ]
     },
     "metadata": {
      "needs_background": "light"
     },
     "output_type": "display_data"
    }
   ],
   "source": [
    "fig, ax = plt.subplots(nrows=2, figsize=(12, 6))\n",
    "\n",
    "ax[0].plot(history.history['loss'])\n",
    "ax[0].plot(history.history['val_loss'])\n",
    "ax[0].set_xlabel('Epochs')\n",
    "ax[0].set_ylabel('Loss')\n",
    "ax[0].legend(['train', 'test'])\n",
    "\n",
    "ax[1].plot(history.history['acc'])\n",
    "ax[1].plot(history.history['val_acc'])\n",
    "ax[1].set_xlabel('Epochs')\n",
    "ax[1].set_ylabel('Acc')\n",
    "ax[1].legend(['train', 'test'])\n",
    "\n",
    "plt.show()"
   ]
  },
  {
   "cell_type": "markdown",
   "id": "a38d231b",
   "metadata": {},
   "source": [
    "Jak można zauważyć na powyższym wykresie, sieć CNN znacznie lepiej poradziła sobię z problemem niż inne modele klasyfikacyjne, osiągając dokładność walidacji ok. 78%. Warto zauważyć, że architektura sieci nie jest zbyt skomplikowana, więc pozostawia miejsce do dalszych ulepszeń."
   ]
  }
 ],
 "metadata": {
  "kernelspec": {
   "display_name": "Python 3 (ipykernel)",
   "language": "python",
   "name": "python3"
  },
  "language_info": {
   "codemirror_mode": {
    "name": "ipython",
    "version": 3
   },
   "file_extension": ".py",
   "mimetype": "text/x-python",
   "name": "python",
   "nbconvert_exporter": "python",
   "pygments_lexer": "ipython3",
   "version": "3.9.7"
  }
 },
 "nbformat": 4,
 "nbformat_minor": 5
}
